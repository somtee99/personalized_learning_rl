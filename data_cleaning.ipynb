{
 "cells": [
  {
   "cell_type": "code",
   "execution_count": 1,
   "id": "c4527883",
   "metadata": {},
   "outputs": [],
   "source": [
    "# Cell 1: Import libraries and load dataset\n",
    "import pandas as pd\n",
    "import matplotlib.pyplot as plt\n",
    "import seaborn as sns"
   ]
  },
  {
   "cell_type": "code",
   "execution_count": 2,
   "id": "a8c191bb",
   "metadata": {},
   "outputs": [
    {
     "name": "stdout",
     "output_type": "stream",
     "text": [
      "Dataset loaded. Shape: (603128, 30)\n"
     ]
    },
    {
     "data": {
      "text/html": [
       "<div>\n",
       "<style scoped>\n",
       "    .dataframe tbody tr th:only-of-type {\n",
       "        vertical-align: middle;\n",
       "    }\n",
       "\n",
       "    .dataframe tbody tr th {\n",
       "        vertical-align: top;\n",
       "    }\n",
       "\n",
       "    .dataframe thead th {\n",
       "        text-align: right;\n",
       "    }\n",
       "</style>\n",
       "<table border=\"1\" class=\"dataframe\">\n",
       "  <thead>\n",
       "    <tr style=\"text-align: right;\">\n",
       "      <th></th>\n",
       "      <th>order_id</th>\n",
       "      <th>assignment_id</th>\n",
       "      <th>user_id</th>\n",
       "      <th>assistment_id</th>\n",
       "      <th>problem_id</th>\n",
       "      <th>original</th>\n",
       "      <th>correct</th>\n",
       "      <th>attempt_count</th>\n",
       "      <th>ms_first_response</th>\n",
       "      <th>tutor_mode</th>\n",
       "      <th>...</th>\n",
       "      <th>hint_count</th>\n",
       "      <th>hint_total</th>\n",
       "      <th>overlap_time</th>\n",
       "      <th>template_id</th>\n",
       "      <th>answer_id</th>\n",
       "      <th>answer_text</th>\n",
       "      <th>first_action</th>\n",
       "      <th>bottom_hint</th>\n",
       "      <th>opportunity</th>\n",
       "      <th>opportunity_original</th>\n",
       "    </tr>\n",
       "  </thead>\n",
       "  <tbody>\n",
       "    <tr>\n",
       "      <th>0</th>\n",
       "      <td>20223588</td>\n",
       "      <td>245748</td>\n",
       "      <td>77759</td>\n",
       "      <td>12914</td>\n",
       "      <td>12914</td>\n",
       "      <td>1</td>\n",
       "      <td>1.0</td>\n",
       "      <td>1</td>\n",
       "      <td>57310.0</td>\n",
       "      <td>tutor</td>\n",
       "      <td>...</td>\n",
       "      <td>0</td>\n",
       "      <td>0</td>\n",
       "      <td>57310</td>\n",
       "      <td>12914</td>\n",
       "      <td>20935.0</td>\n",
       "      <td>NaN</td>\n",
       "      <td>0.0</td>\n",
       "      <td>NaN</td>\n",
       "      <td>1</td>\n",
       "      <td>1</td>\n",
       "    </tr>\n",
       "    <tr>\n",
       "      <th>1</th>\n",
       "      <td>20223595</td>\n",
       "      <td>245748</td>\n",
       "      <td>77759</td>\n",
       "      <td>15320</td>\n",
       "      <td>15320</td>\n",
       "      <td>1</td>\n",
       "      <td>1.0</td>\n",
       "      <td>1</td>\n",
       "      <td>88691.0</td>\n",
       "      <td>tutor</td>\n",
       "      <td>...</td>\n",
       "      <td>0</td>\n",
       "      <td>0</td>\n",
       "      <td>88691</td>\n",
       "      <td>15320</td>\n",
       "      <td>22385.0</td>\n",
       "      <td>NaN</td>\n",
       "      <td>0.0</td>\n",
       "      <td>NaN</td>\n",
       "      <td>2</td>\n",
       "      <td>2</td>\n",
       "    </tr>\n",
       "    <tr>\n",
       "      <th>2</th>\n",
       "      <td>20223601</td>\n",
       "      <td>245748</td>\n",
       "      <td>77759</td>\n",
       "      <td>14529</td>\n",
       "      <td>14529</td>\n",
       "      <td>1</td>\n",
       "      <td>1.0</td>\n",
       "      <td>1</td>\n",
       "      <td>43748.0</td>\n",
       "      <td>tutor</td>\n",
       "      <td>...</td>\n",
       "      <td>0</td>\n",
       "      <td>0</td>\n",
       "      <td>43748</td>\n",
       "      <td>14529</td>\n",
       "      <td>20735.0</td>\n",
       "      <td>NaN</td>\n",
       "      <td>0.0</td>\n",
       "      <td>NaN</td>\n",
       "      <td>3</td>\n",
       "      <td>3</td>\n",
       "    </tr>\n",
       "    <tr>\n",
       "      <th>3</th>\n",
       "      <td>20223926</td>\n",
       "      <td>245698</td>\n",
       "      <td>77912</td>\n",
       "      <td>1159</td>\n",
       "      <td>1159</td>\n",
       "      <td>1</td>\n",
       "      <td>0.0</td>\n",
       "      <td>2</td>\n",
       "      <td>45587.0</td>\n",
       "      <td>tutor</td>\n",
       "      <td>...</td>\n",
       "      <td>0</td>\n",
       "      <td>0</td>\n",
       "      <td>53599</td>\n",
       "      <td>1159</td>\n",
       "      <td>NaN</td>\n",
       "      <td>3</td>\n",
       "      <td>0.0</td>\n",
       "      <td>NaN</td>\n",
       "      <td>1</td>\n",
       "      <td>1</td>\n",
       "    </tr>\n",
       "    <tr>\n",
       "      <th>4</th>\n",
       "      <td>20223934</td>\n",
       "      <td>245698</td>\n",
       "      <td>77912</td>\n",
       "      <td>1647</td>\n",
       "      <td>1647</td>\n",
       "      <td>1</td>\n",
       "      <td>1.0</td>\n",
       "      <td>1</td>\n",
       "      <td>90176.0</td>\n",
       "      <td>tutor</td>\n",
       "      <td>...</td>\n",
       "      <td>0</td>\n",
       "      <td>0</td>\n",
       "      <td>90176</td>\n",
       "      <td>1647</td>\n",
       "      <td>3438.0</td>\n",
       "      <td>NaN</td>\n",
       "      <td>0.0</td>\n",
       "      <td>NaN</td>\n",
       "      <td>1</td>\n",
       "      <td>1</td>\n",
       "    </tr>\n",
       "  </tbody>\n",
       "</table>\n",
       "<p>5 rows × 30 columns</p>\n",
       "</div>"
      ],
      "text/plain": [
       "   order_id  assignment_id  user_id  assistment_id  problem_id  original  \\\n",
       "0  20223588         245748    77759          12914       12914         1   \n",
       "1  20223595         245748    77759          15320       15320         1   \n",
       "2  20223601         245748    77759          14529       14529         1   \n",
       "3  20223926         245698    77912           1159        1159         1   \n",
       "4  20223934         245698    77912           1647        1647         1   \n",
       "\n",
       "   correct  attempt_count  ms_first_response tutor_mode  ... hint_count  \\\n",
       "0      1.0              1            57310.0      tutor  ...          0   \n",
       "1      1.0              1            88691.0      tutor  ...          0   \n",
       "2      1.0              1            43748.0      tutor  ...          0   \n",
       "3      0.0              2            45587.0      tutor  ...          0   \n",
       "4      1.0              1            90176.0      tutor  ...          0   \n",
       "\n",
       "   hint_total  overlap_time  template_id answer_id  answer_text first_action  \\\n",
       "0           0         57310        12914   20935.0          NaN          0.0   \n",
       "1           0         88691        15320   22385.0          NaN          0.0   \n",
       "2           0         43748        14529   20735.0          NaN          0.0   \n",
       "3           0         53599         1159       NaN            3          0.0   \n",
       "4           0         90176         1647    3438.0          NaN          0.0   \n",
       "\n",
       "  bottom_hint  opportunity  opportunity_original  \n",
       "0         NaN            1                     1  \n",
       "1         NaN            2                     2  \n",
       "2         NaN            3                     3  \n",
       "3         NaN            1                     1  \n",
       "4         NaN            1                     1  \n",
       "\n",
       "[5 rows x 30 columns]"
      ]
     },
     "execution_count": 2,
     "metadata": {},
     "output_type": "execute_result"
    }
   ],
   "source": [
    "df = pd.read_csv('./assistments_dataset.csv')\n",
    "print(\"Dataset loaded. Shape:\", df.shape)\n",
    "df.head()"
   ]
  },
  {
   "cell_type": "code",
   "execution_count": 3,
   "id": "debe586d",
   "metadata": {},
   "outputs": [
    {
     "name": "stdout",
     "output_type": "stream",
     "text": [
      "<class 'pandas.core.frame.DataFrame'>\n",
      "RangeIndex: 603128 entries, 0 to 603127\n",
      "Data columns (total 30 columns):\n",
      " #   Column                Non-Null Count   Dtype  \n",
      "---  ------                --------------   -----  \n",
      " 0   order_id              603128 non-null  int64  \n",
      " 1   assignment_id         603128 non-null  int64  \n",
      " 2   user_id               603128 non-null  int64  \n",
      " 3   assistment_id         603128 non-null  int64  \n",
      " 4   problem_id            603128 non-null  int64  \n",
      " 5   original              603128 non-null  int64  \n",
      " 6   correct               603128 non-null  float64\n",
      " 7   attempt_count         603128 non-null  int64  \n",
      " 8   ms_first_response     603120 non-null  float64\n",
      " 9   tutor_mode            603128 non-null  object \n",
      " 10  answer_type           603128 non-null  object \n",
      " 11  sequence_id           603128 non-null  int64  \n",
      " 12  student_class_id      603128 non-null  int64  \n",
      " 13  position              603128 non-null  int64  \n",
      " 14  type                  603128 non-null  object \n",
      " 15  base_sequence_id      603128 non-null  int64  \n",
      " 16  skill_id              603128 non-null  object \n",
      " 17  skill_name            562268 non-null  object \n",
      " 18  teacher_id            603128 non-null  int64  \n",
      " 19  school_id             603128 non-null  int64  \n",
      " 20  hint_count            603128 non-null  int64  \n",
      " 21  hint_total            603128 non-null  int64  \n",
      " 22  overlap_time          603128 non-null  int64  \n",
      " 23  template_id           603128 non-null  int64  \n",
      " 24  answer_id             238307 non-null  float64\n",
      " 25  answer_text           278374 non-null  object \n",
      " 26  first_action          603120 non-null  float64\n",
      " 27  bottom_hint           91860 non-null   float64\n",
      " 28  opportunity           603128 non-null  object \n",
      " 29  opportunity_original  470282 non-null  object \n",
      "dtypes: float64(5), int64(17), object(8)\n",
      "memory usage: 138.0+ MB\n"
     ]
    }
   ],
   "source": [
    "df.info()"
   ]
  },
  {
   "cell_type": "code",
   "execution_count": 4,
   "id": "3560e143",
   "metadata": {},
   "outputs": [
    {
     "name": "stdout",
     "output_type": "stream",
     "text": [
      "Missing values per column:\n",
      " order_id                     0\n",
      "assignment_id                0\n",
      "user_id                      0\n",
      "assistment_id                0\n",
      "problem_id                   0\n",
      "original                     0\n",
      "correct                      0\n",
      "attempt_count                0\n",
      "ms_first_response            8\n",
      "tutor_mode                   0\n",
      "answer_type                  0\n",
      "sequence_id                  0\n",
      "student_class_id             0\n",
      "position                     0\n",
      "type                         0\n",
      "base_sequence_id             0\n",
      "skill_id                     0\n",
      "skill_name               40860\n",
      "teacher_id                   0\n",
      "school_id                    0\n",
      "hint_count                   0\n",
      "hint_total                   0\n",
      "overlap_time                 0\n",
      "template_id                  0\n",
      "answer_id               364821\n",
      "answer_text             324754\n",
      "first_action                 8\n",
      "bottom_hint             511268\n",
      "opportunity                  0\n",
      "opportunity_original    132846\n",
      "dtype: int64\n"
     ]
    }
   ],
   "source": [
    "# Cell 2: Check for missing values in all columns\n",
    "print(\"Missing values per column:\\n\", df.isnull().sum())"
   ]
  },
  {
   "cell_type": "markdown",
   "id": "55886b1b",
   "metadata": {},
   "source": [
    "Remove samples with null 'skill_name'"
   ]
  },
  {
   "cell_type": "code",
   "execution_count": 5,
   "id": "c133a503",
   "metadata": {},
   "outputs": [
    {
     "name": "stdout",
     "output_type": "stream",
     "text": [
      "Shape of df (skill_name not null): (562268, 30)\n"
     ]
    },
    {
     "data": {
      "text/html": [
       "<div>\n",
       "<style scoped>\n",
       "    .dataframe tbody tr th:only-of-type {\n",
       "        vertical-align: middle;\n",
       "    }\n",
       "\n",
       "    .dataframe tbody tr th {\n",
       "        vertical-align: top;\n",
       "    }\n",
       "\n",
       "    .dataframe thead th {\n",
       "        text-align: right;\n",
       "    }\n",
       "</style>\n",
       "<table border=\"1\" class=\"dataframe\">\n",
       "  <thead>\n",
       "    <tr style=\"text-align: right;\">\n",
       "      <th></th>\n",
       "      <th>order_id</th>\n",
       "      <th>assignment_id</th>\n",
       "      <th>user_id</th>\n",
       "      <th>assistment_id</th>\n",
       "      <th>problem_id</th>\n",
       "      <th>original</th>\n",
       "      <th>correct</th>\n",
       "      <th>attempt_count</th>\n",
       "      <th>ms_first_response</th>\n",
       "      <th>tutor_mode</th>\n",
       "      <th>...</th>\n",
       "      <th>hint_count</th>\n",
       "      <th>hint_total</th>\n",
       "      <th>overlap_time</th>\n",
       "      <th>template_id</th>\n",
       "      <th>answer_id</th>\n",
       "      <th>answer_text</th>\n",
       "      <th>first_action</th>\n",
       "      <th>bottom_hint</th>\n",
       "      <th>opportunity</th>\n",
       "      <th>opportunity_original</th>\n",
       "    </tr>\n",
       "  </thead>\n",
       "  <tbody>\n",
       "    <tr>\n",
       "      <th>0</th>\n",
       "      <td>20223588</td>\n",
       "      <td>245748</td>\n",
       "      <td>77759</td>\n",
       "      <td>12914</td>\n",
       "      <td>12914</td>\n",
       "      <td>1</td>\n",
       "      <td>1.0</td>\n",
       "      <td>1</td>\n",
       "      <td>57310.0</td>\n",
       "      <td>tutor</td>\n",
       "      <td>...</td>\n",
       "      <td>0</td>\n",
       "      <td>0</td>\n",
       "      <td>57310</td>\n",
       "      <td>12914</td>\n",
       "      <td>20935.0</td>\n",
       "      <td>NaN</td>\n",
       "      <td>0.0</td>\n",
       "      <td>NaN</td>\n",
       "      <td>1</td>\n",
       "      <td>1</td>\n",
       "    </tr>\n",
       "    <tr>\n",
       "      <th>1</th>\n",
       "      <td>20223595</td>\n",
       "      <td>245748</td>\n",
       "      <td>77759</td>\n",
       "      <td>15320</td>\n",
       "      <td>15320</td>\n",
       "      <td>1</td>\n",
       "      <td>1.0</td>\n",
       "      <td>1</td>\n",
       "      <td>88691.0</td>\n",
       "      <td>tutor</td>\n",
       "      <td>...</td>\n",
       "      <td>0</td>\n",
       "      <td>0</td>\n",
       "      <td>88691</td>\n",
       "      <td>15320</td>\n",
       "      <td>22385.0</td>\n",
       "      <td>NaN</td>\n",
       "      <td>0.0</td>\n",
       "      <td>NaN</td>\n",
       "      <td>2</td>\n",
       "      <td>2</td>\n",
       "    </tr>\n",
       "    <tr>\n",
       "      <th>2</th>\n",
       "      <td>20223601</td>\n",
       "      <td>245748</td>\n",
       "      <td>77759</td>\n",
       "      <td>14529</td>\n",
       "      <td>14529</td>\n",
       "      <td>1</td>\n",
       "      <td>1.0</td>\n",
       "      <td>1</td>\n",
       "      <td>43748.0</td>\n",
       "      <td>tutor</td>\n",
       "      <td>...</td>\n",
       "      <td>0</td>\n",
       "      <td>0</td>\n",
       "      <td>43748</td>\n",
       "      <td>14529</td>\n",
       "      <td>20735.0</td>\n",
       "      <td>NaN</td>\n",
       "      <td>0.0</td>\n",
       "      <td>NaN</td>\n",
       "      <td>3</td>\n",
       "      <td>3</td>\n",
       "    </tr>\n",
       "    <tr>\n",
       "      <th>6</th>\n",
       "      <td>20223948</td>\n",
       "      <td>245698</td>\n",
       "      <td>77912</td>\n",
       "      <td>2186</td>\n",
       "      <td>2186</td>\n",
       "      <td>1</td>\n",
       "      <td>1.0</td>\n",
       "      <td>1</td>\n",
       "      <td>95637.0</td>\n",
       "      <td>tutor</td>\n",
       "      <td>...</td>\n",
       "      <td>0</td>\n",
       "      <td>0</td>\n",
       "      <td>95637</td>\n",
       "      <td>2186</td>\n",
       "      <td>NaN</td>\n",
       "      <td>4</td>\n",
       "      <td>0.0</td>\n",
       "      <td>NaN</td>\n",
       "      <td>1</td>\n",
       "      <td>1</td>\n",
       "    </tr>\n",
       "    <tr>\n",
       "      <th>7</th>\n",
       "      <td>20223955</td>\n",
       "      <td>245698</td>\n",
       "      <td>77912</td>\n",
       "      <td>1653</td>\n",
       "      <td>1653</td>\n",
       "      <td>1</td>\n",
       "      <td>1.0</td>\n",
       "      <td>1</td>\n",
       "      <td>227226.0</td>\n",
       "      <td>tutor</td>\n",
       "      <td>...</td>\n",
       "      <td>0</td>\n",
       "      <td>0</td>\n",
       "      <td>227226</td>\n",
       "      <td>1653</td>\n",
       "      <td>3493.0</td>\n",
       "      <td>NaN</td>\n",
       "      <td>0.0</td>\n",
       "      <td>NaN</td>\n",
       "      <td>2</td>\n",
       "      <td>2</td>\n",
       "    </tr>\n",
       "  </tbody>\n",
       "</table>\n",
       "<p>5 rows × 30 columns</p>\n",
       "</div>"
      ],
      "text/plain": [
       "   order_id  assignment_id  user_id  assistment_id  problem_id  original  \\\n",
       "0  20223588         245748    77759          12914       12914         1   \n",
       "1  20223595         245748    77759          15320       15320         1   \n",
       "2  20223601         245748    77759          14529       14529         1   \n",
       "6  20223948         245698    77912           2186        2186         1   \n",
       "7  20223955         245698    77912           1653        1653         1   \n",
       "\n",
       "   correct  attempt_count  ms_first_response tutor_mode  ... hint_count  \\\n",
       "0      1.0              1            57310.0      tutor  ...          0   \n",
       "1      1.0              1            88691.0      tutor  ...          0   \n",
       "2      1.0              1            43748.0      tutor  ...          0   \n",
       "6      1.0              1            95637.0      tutor  ...          0   \n",
       "7      1.0              1           227226.0      tutor  ...          0   \n",
       "\n",
       "   hint_total  overlap_time  template_id answer_id  answer_text first_action  \\\n",
       "0           0         57310        12914   20935.0          NaN          0.0   \n",
       "1           0         88691        15320   22385.0          NaN          0.0   \n",
       "2           0         43748        14529   20735.0          NaN          0.0   \n",
       "6           0         95637         2186       NaN            4          0.0   \n",
       "7           0        227226         1653    3493.0          NaN          0.0   \n",
       "\n",
       "  bottom_hint  opportunity  opportunity_original  \n",
       "0         NaN            1                     1  \n",
       "1         NaN            2                     2  \n",
       "2         NaN            3                     3  \n",
       "6         NaN            1                     1  \n",
       "7         NaN            2                     2  \n",
       "\n",
       "[5 rows x 30 columns]"
      ]
     },
     "execution_count": 5,
     "metadata": {},
     "output_type": "execute_result"
    }
   ],
   "source": [
    "df = df[df['skill_name'].notnull()].copy()\n",
    "print(\"Shape of df (skill_name not null):\", df.shape)\n",
    "df.head()"
   ]
  },
  {
   "cell_type": "markdown",
   "id": "cebedc09",
   "metadata": {
    "slideshow": {
     "slide_type": "fragment"
    }
   },
   "source": [
    "EDA On Correct/Incorrect Answers"
   ]
  },
  {
   "cell_type": "code",
   "execution_count": 6,
   "id": "4ed2421a",
   "metadata": {},
   "outputs": [
    {
     "data": {
      "image/png": "[encoded data removed]",
      "text/plain": [
       "<Figure size 640x480 with 1 Axes>"
      ]
     },
     "metadata": {},
     "output_type": "display_data"
    },
    {
     "name": "stdout",
     "output_type": "stream",
     "text": [
      "correct\n",
      "1.000    0.572158\n",
      "0.000    0.427538\n",
      "0.250    0.000108\n",
      "0.500    0.000096\n",
      "0.750    0.000092\n",
      "0.875    0.000004\n",
      "0.625    0.000002\n",
      "0.125    0.000002\n",
      "Name: proportion, dtype: float64\n"
     ]
    }
   ],
   "source": [
    "# Cell 3: EDA on 'correct' (distribution of correct/incorrect answers)\n",
    "sns.countplot(x='correct', data=df)\n",
    "plt.title('Distribution of Correct Answers')\n",
    "plt.xlabel('Correct (1=Correct, 0=Incorrect)')\n",
    "plt.ylabel('Count')\n",
    "plt.show()\n",
    "print(df['correct'].value_counts(normalize=True))"
   ]
  },
  {
   "cell_type": "markdown",
   "id": "ec85948c",
   "metadata": {},
   "source": [
    "EDA on Time Taken on Questions"
   ]
  },
  {
   "cell_type": "code",
   "execution_count": 7,
   "id": "7490bc77",
   "metadata": {},
   "outputs": [
    {
     "data": {
      "image/png": "[encoded data removed]",
      "text/plain": [
       "<Figure size 640x480 with 1 Axes>"
      ]
     },
     "metadata": {},
     "output_type": "display_data"
    },
    {
     "name": "stdout",
     "output_type": "stream",
     "text": [
      "count    5.622600e+05\n",
      "mean     5.891408e+04\n",
      "std      1.700895e+06\n",
      "min     -3.417476e+06\n",
      "25%      8.547000e+03\n",
      "50%      2.081200e+04\n",
      "75%      4.869300e+04\n",
      "max      8.643416e+08\n",
      "Name: ms_first_response, dtype: float64\n"
     ]
    }
   ],
   "source": [
    "sns.histplot(df['ms_first_response'].dropna(), bins=50, kde=True)\n",
    "plt.title('Time to First Response (ms)')\n",
    "plt.xlabel('Milliseconds')\n",
    "plt.ylabel('Frequency')\n",
    "plt.show()\n",
    "print(df['ms_first_response'].describe())"
   ]
  },
  {
   "cell_type": "code",
   "execution_count": 8,
   "id": "66b8cffe",
   "metadata": {},
   "outputs": [
    {
     "data": {
      "image/png": "[encoded data removed]",
      "text/plain": [
       "<Figure size 640x480 with 1 Axes>"
      ]
     },
     "metadata": {},
     "output_type": "display_data"
    },
    {
     "name": "stdout",
     "output_type": "stream",
     "text": [
      "count    5.622680e+05\n",
      "mean     6.823897e+04\n",
      "std      1.728428e+06\n",
      "min     -3.066430e+06\n",
      "25%      1.068900e+04\n",
      "50%      2.468700e+04\n",
      "75%      5.710700e+04\n",
      "max      8.643417e+08\n",
      "Name: overlap_time, dtype: float64\n"
     ]
    }
   ],
   "source": [
    "sns.histplot(df['overlap_time'].dropna(), bins=30, kde=True)\n",
    "plt.title('Overlap Time Distribution (ms)')\n",
    "plt.xlabel('Overlap Time')\n",
    "plt.ylabel('Frequency')\n",
    "plt.show()\n",
    "print(df['overlap_time'].describe())"
   ]
  },
  {
   "cell_type": "markdown",
   "id": "676aceb0",
   "metadata": {},
   "source": [
    "EDA on Question Types and Skills"
   ]
  },
  {
   "cell_type": "code",
   "execution_count": 9,
   "id": "97856059",
   "metadata": {},
   "outputs": [
    {
     "data": {
      "image/png": "[encoded data removed]",
      "text/plain": [
       "<Figure size 640x480 with 1 Axes>"
      ]
     },
     "metadata": {},
     "output_type": "display_data"
    },
    {
     "name": "stdout",
     "output_type": "stream",
     "text": [
      "answer_type\n",
      "choose_1         241195\n",
      "algebra          205414\n",
      "fill_in_1        114876\n",
      "open_response       586\n",
      "rank                164\n",
      "choose_n             33\n",
      "Name: count, dtype: int64\n"
     ]
    }
   ],
   "source": [
    "sns.countplot(y='answer_type', data=df, order=df['answer_type'].value_counts().index)\n",
    "plt.title('Distribution of Answer Types')\n",
    "plt.xlabel('Count')\n",
    "plt.ylabel('Answer Type')\n",
    "plt.show()\n",
    "print(df['answer_type'].value_counts())"
   ]
  },
  {
   "cell_type": "code",
   "execution_count": 10,
   "id": "e9dc2b51",
   "metadata": {},
   "outputs": [
    {
     "name": "stdout",
     "output_type": "stream",
     "text": [
      "Number of unique skills: 525\n"
     ]
    },
    {
     "data": {
      "image/png": "[encoded data removed]",
      "text/plain": [
       "<Figure size 640x480 with 1 Axes>"
      ]
     },
     "metadata": {},
     "output_type": "display_data"
    }
   ],
   "source": [
    "print(\"Number of unique skills:\", df['skill_id'].nunique())\n",
    "top_skills = df['skill_name'].value_counts().head(10)\n",
    "sns.barplot(y=top_skills.index, x=top_skills.values)\n",
    "plt.title('Top 10 Skills')\n",
    "plt.xlabel('Count')\n",
    "plt.ylabel('Skill Name')\n",
    "plt.show()"
   ]
  },
  {
   "cell_type": "markdown",
   "id": "76d96281",
   "metadata": {},
   "source": [
    "EDA on Hints Usage"
   ]
  },
  {
   "cell_type": "code",
   "execution_count": 11,
   "id": "67bb5d03",
   "metadata": {},
   "outputs": [
    {
     "data": {
      "image/png": "[encoded data removed]",
      "text/plain": [
       "<Figure size 640x480 with 1 Axes>"
      ]
     },
     "metadata": {},
     "output_type": "display_data"
    },
    {
     "name": "stdout",
     "output_type": "stream",
     "text": [
      "count    562268.000000\n",
      "mean          0.439141\n",
      "std           1.139588\n",
      "min           0.000000\n",
      "25%           0.000000\n",
      "50%           0.000000\n",
      "75%           0.000000\n",
      "max          10.000000\n",
      "Name: hint_count, dtype: float64\n"
     ]
    },
    {
     "data": {
      "image/png": "[encoded data removed]",
      "text/plain": [
       "<Figure size 640x480 with 1 Axes>"
      ]
     },
     "metadata": {},
     "output_type": "display_data"
    },
    {
     "name": "stdout",
     "output_type": "stream",
     "text": [
      "count    562268.000000\n",
      "mean          2.332279\n",
      "std           2.403852\n",
      "min           0.000000\n",
      "25%           0.000000\n",
      "50%           3.000000\n",
      "75%           4.000000\n",
      "max          83.000000\n",
      "Name: hint_total, dtype: float64\n"
     ]
    }
   ],
   "source": [
    "sns.histplot(df['hint_count'].dropna(), bins=20, kde=False)\n",
    "plt.title('Hint Count Distribution')\n",
    "plt.xlabel('Hint Count')\n",
    "plt.ylabel('Frequency')\n",
    "plt.show()\n",
    "print(df['hint_count'].describe())\n",
    "\n",
    "sns.histplot(df['hint_total'].dropna(), bins=20, kde=False)\n",
    "plt.title('Total Hints Distribution')\n",
    "plt.xlabel('Hint Total')\n",
    "plt.ylabel('Frequency')\n",
    "plt.show()\n",
    "print(df['hint_total'].describe())"
   ]
  },
  {
   "cell_type": "code",
   "execution_count": 12,
   "id": "8cab92bc",
   "metadata": {},
   "outputs": [
    {
     "data": {
      "image/png": "[encoded data removed]",
      "text/plain": [
       "<Figure size 640x480 with 1 Axes>"
      ]
     },
     "metadata": {},
     "output_type": "display_data"
    },
    {
     "name": "stdout",
     "output_type": "stream",
     "text": [
      "first_action\n",
      "attempt      482446\n",
      "hint_used     58953\n",
      "scrolling     20861\n",
      "Name: count, dtype: int64\n"
     ]
    }
   ],
   "source": [
    "action_labels = {0: 'attempt', 1: 'hint_used', 2: 'scrolling'}\n",
    "df['first_action_label'] = df['first_action'].map(action_labels)\n",
    "\n",
    "sns.countplot(y='first_action_label', data=df, order=['attempt', 'hint_used', 'scrolling'])\n",
    "plt.title('Distribution of First Actions')\n",
    "plt.xlabel('Count')\n",
    "plt.ylabel('First Action')\n",
    "plt.show()\n",
    "print(df['first_action'].value_counts().rename(index=action_labels))"
   ]
  },
  {
   "cell_type": "markdown",
   "id": "e8ae3eaf",
   "metadata": {},
   "source": [
    "Data Cleaning"
   ]
  },
  {
   "cell_type": "code",
   "execution_count": 23,
   "id": "c32b1b0a",
   "metadata": {},
   "outputs": [
    {
     "name": "stdout",
     "output_type": "stream",
     "text": [
      "Shape of cleaned_df: (557878, 7)\n"
     ]
    },
    {
     "data": {
      "text/html": [
       "<div>\n",
       "<style scoped>\n",
       "    .dataframe tbody tr th:only-of-type {\n",
       "        vertical-align: middle;\n",
       "    }\n",
       "\n",
       "    .dataframe tbody tr th {\n",
       "        vertical-align: top;\n",
       "    }\n",
       "\n",
       "    .dataframe thead th {\n",
       "        text-align: right;\n",
       "    }\n",
       "</style>\n",
       "<table border=\"1\" class=\"dataframe\">\n",
       "  <thead>\n",
       "    <tr style=\"text-align: right;\">\n",
       "      <th></th>\n",
       "      <th>order_id</th>\n",
       "      <th>correct</th>\n",
       "      <th>answer_type</th>\n",
       "      <th>sequence_id</th>\n",
       "      <th>skill_name</th>\n",
       "      <th>hint_count</th>\n",
       "      <th>overlap_time</th>\n",
       "    </tr>\n",
       "  </thead>\n",
       "  <tbody>\n",
       "    <tr>\n",
       "      <th>0</th>\n",
       "      <td>20223588</td>\n",
       "      <td>1.0</td>\n",
       "      <td>choose_1</td>\n",
       "      <td>5366</td>\n",
       "      <td>Symbolization</td>\n",
       "      <td>0</td>\n",
       "      <td>57310</td>\n",
       "    </tr>\n",
       "    <tr>\n",
       "      <th>1</th>\n",
       "      <td>20223595</td>\n",
       "      <td>1.0</td>\n",
       "      <td>choose_1</td>\n",
       "      <td>5366</td>\n",
       "      <td>Symbolization</td>\n",
       "      <td>0</td>\n",
       "      <td>88691</td>\n",
       "    </tr>\n",
       "    <tr>\n",
       "      <th>2</th>\n",
       "      <td>20223601</td>\n",
       "      <td>1.0</td>\n",
       "      <td>choose_1</td>\n",
       "      <td>5366</td>\n",
       "      <td>Symbolization</td>\n",
       "      <td>0</td>\n",
       "      <td>43748</td>\n",
       "    </tr>\n",
       "    <tr>\n",
       "      <th>6</th>\n",
       "      <td>20223948</td>\n",
       "      <td>1.0</td>\n",
       "      <td>algebra</td>\n",
       "      <td>2655</td>\n",
       "      <td>Effect of Changing Dimensions of a Shape Prpor...</td>\n",
       "      <td>0</td>\n",
       "      <td>95637</td>\n",
       "    </tr>\n",
       "    <tr>\n",
       "      <th>7</th>\n",
       "      <td>20223955</td>\n",
       "      <td>1.0</td>\n",
       "      <td>choose_1</td>\n",
       "      <td>2655</td>\n",
       "      <td>Effect of Changing Dimensions of a Shape Prpor...</td>\n",
       "      <td>0</td>\n",
       "      <td>227226</td>\n",
       "    </tr>\n",
       "    <tr>\n",
       "      <th>8</th>\n",
       "      <td>20223963</td>\n",
       "      <td>1.0</td>\n",
       "      <td>choose_1</td>\n",
       "      <td>2655</td>\n",
       "      <td>Effect of Changing Dimensions of a Shape Prpor...</td>\n",
       "      <td>0</td>\n",
       "      <td>165891</td>\n",
       "    </tr>\n",
       "    <tr>\n",
       "      <th>9</th>\n",
       "      <td>20223971</td>\n",
       "      <td>1.0</td>\n",
       "      <td>choose_1</td>\n",
       "      <td>2655</td>\n",
       "      <td>Effect of Changing Dimensions of a Shape Prpor...</td>\n",
       "      <td>0</td>\n",
       "      <td>129112</td>\n",
       "    </tr>\n",
       "    <tr>\n",
       "      <th>11</th>\n",
       "      <td>20223984</td>\n",
       "      <td>1.0</td>\n",
       "      <td>choose_1</td>\n",
       "      <td>2655</td>\n",
       "      <td>Addition Whole Numbers,</td>\n",
       "      <td>0</td>\n",
       "      <td>87127</td>\n",
       "    </tr>\n",
       "    <tr>\n",
       "      <th>13</th>\n",
       "      <td>20224018</td>\n",
       "      <td>1.0</td>\n",
       "      <td>choose_1</td>\n",
       "      <td>2654</td>\n",
       "      <td>Number Line,</td>\n",
       "      <td>0</td>\n",
       "      <td>179111</td>\n",
       "    </tr>\n",
       "    <tr>\n",
       "      <th>15</th>\n",
       "      <td>20224039</td>\n",
       "      <td>1.0</td>\n",
       "      <td>algebra</td>\n",
       "      <td>2654</td>\n",
       "      <td>Multiplication Whole Numbers,Pattern Finding ,</td>\n",
       "      <td>0</td>\n",
       "      <td>30964</td>\n",
       "    </tr>\n",
       "  </tbody>\n",
       "</table>\n",
       "</div>"
      ],
      "text/plain": [
       "    order_id  correct answer_type  sequence_id  \\\n",
       "0   20223588      1.0    choose_1         5366   \n",
       "1   20223595      1.0    choose_1         5366   \n",
       "2   20223601      1.0    choose_1         5366   \n",
       "6   20223948      1.0     algebra         2655   \n",
       "7   20223955      1.0    choose_1         2655   \n",
       "8   20223963      1.0    choose_1         2655   \n",
       "9   20223971      1.0    choose_1         2655   \n",
       "11  20223984      1.0    choose_1         2655   \n",
       "13  20224018      1.0    choose_1         2654   \n",
       "15  20224039      1.0     algebra         2654   \n",
       "\n",
       "                                           skill_name  hint_count  \\\n",
       "0                                       Symbolization           0   \n",
       "1                                       Symbolization           0   \n",
       "2                                       Symbolization           0   \n",
       "6   Effect of Changing Dimensions of a Shape Prpor...           0   \n",
       "7   Effect of Changing Dimensions of a Shape Prpor...           0   \n",
       "8   Effect of Changing Dimensions of a Shape Prpor...           0   \n",
       "9   Effect of Changing Dimensions of a Shape Prpor...           0   \n",
       "11                            Addition Whole Numbers,           0   \n",
       "13                                       Number Line,           0   \n",
       "15     Multiplication Whole Numbers,Pattern Finding ,           0   \n",
       "\n",
       "    overlap_time  \n",
       "0          57310  \n",
       "1          88691  \n",
       "2          43748  \n",
       "6          95637  \n",
       "7         227226  \n",
       "8         165891  \n",
       "9         129112  \n",
       "11         87127  \n",
       "13        179111  \n",
       "15         30964  "
      ]
     },
     "execution_count": 23,
     "metadata": {},
     "output_type": "execute_result"
    }
   ],
   "source": [
    "# Remove rows where 'skill_name' is only ',' or empty/whitespace\n",
    "cleaned_df = df[\n",
    "    (df['skill_name'].notnull()) &\n",
    "    (df['skill_name'].str.strip() != ',') &\n",
    "    (df['skill_name'].str.strip() != '')\n",
    "][[\n",
    "    'order_id', 'correct', 'answer_type',\n",
    "    'sequence_id', 'skill_name', 'hint_count', 'overlap_time'\n",
    "]].copy()\n",
    "print(\"Shape of cleaned_df:\", cleaned_df.shape)\n",
    "cleaned_df.head(10)"
   ]
  },
  {
   "cell_type": "code",
   "execution_count": 30,
   "id": "90824f25",
   "metadata": {},
   "outputs": [
    {
     "name": "stdout",
     "output_type": "stream",
     "text": [
      "<class 'pandas.core.frame.DataFrame'>\n",
      "Index: 557064 entries, 0 to 603127\n",
      "Data columns (total 7 columns):\n",
      " #   Column        Non-Null Count   Dtype  \n",
      "---  ------        --------------   -----  \n",
      " 0   order_id      557064 non-null  int64  \n",
      " 1   correct       557064 non-null  float64\n",
      " 2   answer_type   557064 non-null  object \n",
      " 3   sequence_id   557064 non-null  int64  \n",
      " 4   skill_name    557064 non-null  object \n",
      " 5   hint_count    557064 non-null  int64  \n",
      " 6   overlap_time  557064 non-null  int64  \n",
      "dtypes: float64(1), int64(4), object(2)\n",
      "memory usage: 34.0+ MB\n"
     ]
    }
   ],
   "source": [
    "cleaned_df.info()"
   ]
  },
  {
   "cell_type": "code",
   "execution_count": 25,
   "id": "bcdc7bce",
   "metadata": {},
   "outputs": [
    {
     "data": {
      "text/plain": [
       "hint_count\n",
       "0     474075\n",
       "3      32713\n",
       "2      16573\n",
       "4      16013\n",
       "1      11032\n",
       "5       6174\n",
       "6        927\n",
       "7        340\n",
       "8         29\n",
       "10         1\n",
       "9          1\n",
       "Name: count, dtype: int64"
      ]
     },
     "execution_count": 25,
     "metadata": {},
     "output_type": "execute_result"
    }
   ],
   "source": [
    "cleaned_df['hint_count'].value_counts()"
   ]
  },
  {
   "cell_type": "code",
   "execution_count": 26,
   "id": "a3813842",
   "metadata": {},
   "outputs": [
    {
     "name": "stdout",
     "output_type": "stream",
     "text": [
      "Shape of cleaned_df after removing hint_count outliers: (557847, 7)\n"
     ]
    },
    {
     "data": {
      "text/plain": [
       "hint_count\n",
       "0    474075\n",
       "3     32713\n",
       "2     16573\n",
       "4     16013\n",
       "1     11032\n",
       "5      6174\n",
       "6       927\n",
       "7       340\n",
       "Name: count, dtype: int64"
      ]
     },
     "execution_count": 26,
     "metadata": {},
     "output_type": "execute_result"
    }
   ],
   "source": [
    "# Remove rows where 'hint_count' is 8, 9, or 10 (outliers)\n",
    "cleaned_df = cleaned_df[~cleaned_df['hint_count'].isin([8, 9, 10])]\n",
    "print(\"Shape of cleaned_df after removing hint_count outliers:\", cleaned_df.shape)\n",
    "cleaned_df['hint_count'].value_counts()"
   ]
  },
  {
   "cell_type": "code",
   "execution_count": 27,
   "id": "8b9997b0",
   "metadata": {},
   "outputs": [
    {
     "data": {
      "text/plain": [
       "answer_type\n",
       "choose_1         238288\n",
       "algebra          203906\n",
       "fill_in_1        114870\n",
       "open_response       586\n",
       "rank                164\n",
       "choose_n             33\n",
       "Name: count, dtype: int64"
      ]
     },
     "execution_count": 27,
     "metadata": {},
     "output_type": "execute_result"
    }
   ],
   "source": [
    "cleaned_df['answer_type'].value_counts()"
   ]
  },
  {
   "cell_type": "code",
   "execution_count": 28,
   "id": "5f823b18",
   "metadata": {},
   "outputs": [
    {
     "name": "stdout",
     "output_type": "stream",
     "text": [
      "Shape of cleaned_df after removing specified answer_types: (557064, 7)\n"
     ]
    },
    {
     "data": {
      "text/plain": [
       "answer_type\n",
       "choose_1     238288\n",
       "algebra      203906\n",
       "fill_in_1    114870\n",
       "Name: count, dtype: int64"
      ]
     },
     "execution_count": 28,
     "metadata": {},
     "output_type": "execute_result"
    }
   ],
   "source": [
    "# Remove rows where answer_type is 'open_response', 'rank', or 'choose_n'\n",
    "cleaned_df = cleaned_df[~cleaned_df['answer_type'].isin(['open_response', 'rank', 'choose_n'])]\n",
    "print(\"Shape of cleaned_df after removing specified answer_types:\", cleaned_df.shape)\n",
    "cleaned_df['answer_type'].value_counts()"
   ]
  },
  {
   "cell_type": "code",
   "execution_count": 36,
   "id": "48033a14",
   "metadata": {},
   "outputs": [
    {
     "name": "stdout",
     "output_type": "stream",
     "text": [
      "Value counts for sequence_id:\n",
      "sequence_id\n",
      "2845     13076\n",
      "11069    12640\n",
      "3        10958\n",
      "2854     10877\n",
      "2635     10794\n",
      "         ...  \n",
      "10329        1\n",
      "5388         1\n",
      "5390         1\n",
      "5382         1\n",
      "10776        1\n",
      "Name: count, Length: 739, dtype: int64\n",
      "\n",
      "Value counts for order_id:\n",
      "order_id\n",
      "20223588    1\n",
      "33267752    1\n",
      "33267687    1\n",
      "33267690    1\n",
      "33267697    1\n",
      "           ..\n",
      "27633794    1\n",
      "27633774    1\n",
      "27633756    1\n",
      "27633707    1\n",
      "38310112    1\n",
      "Name: count, Length: 557064, dtype: int64\n"
     ]
    }
   ],
   "source": [
    "# Print full value counts for sequence_id and order_id\n",
    "print(\"Value counts for sequence_id:\")\n",
    "print(cleaned_df['sequence_id'].value_counts())\n",
    "\n",
    "print(\"\\nValue counts for order_id:\")\n",
    "print(cleaned_df['order_id'].value_counts())\n"
   ]
  }
 ],
 "metadata": {
  "kernelspec": {
   "display_name": "base",
   "language": "python",
   "name": "python3"
  },
  "language_info": {
   "codemirror_mode": {
    "name": "ipython",
    "version": 3
   },
   "file_extension": ".py",
   "mimetype": "text/x-python",
   "name": "python",
   "nbconvert_exporter": "python",
   "pygments_lexer": "ipython3",
   "version": "3.12.7"
  }
 },
 "nbformat": 4,
 "nbformat_minor": 5
}
